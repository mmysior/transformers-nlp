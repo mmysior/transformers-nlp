{
 "cells": [
  {
   "cell_type": "markdown",
   "id": "d2a7b2ae-87a3-429b-8e69-c89ddf1f9b0e",
   "metadata": {},
   "source": [
    "# Basic NLP tasks using Huggingface transformers\n",
    "This notebook contains examples of NLP tasks like:  \n",
    "- text summarization\n",
    "- text classification\n",
    "- machine translation\n",
    "- question answering\n",
    "- named entity recognition"
   ]
  },
  {
   "cell_type": "code",
   "execution_count": null,
   "id": "968b2bc5-d290-4cae-9995-71efde65c4e9",
   "metadata": {},
   "outputs": [],
   "source": [
    "import numpy as np\n",
    "import pandas as pd\n",
    "import textwrap\n",
    "\n",
    "from transformers import pipeline"
   ]
  },
  {
   "cell_type": "code",
   "execution_count": null,
   "id": "bacb9695-05ab-4d29-8794-ec25eefe01d2",
   "metadata": {},
   "outputs": [],
   "source": [
    "import logging\n",
    "\n",
    "logging.getLogger(\"transformers\").setLevel(logging.ERROR)"
   ]
  },
  {
   "cell_type": "markdown",
   "id": "9cb02375-8b57-4564-8189-3bb561fadcff",
   "metadata": {},
   "source": [
    "## Text summarization"
   ]
  },
  {
   "cell_type": "code",
   "execution_count": null,
   "id": "06377473-d814-45c5-939e-4e3be34f5ab8",
   "metadata": {},
   "outputs": [],
   "source": [
    "bbc_text = pd.read_csv('data/bbc_text_cls.csv')"
   ]
  },
  {
   "cell_type": "code",
   "execution_count": null,
   "id": "08b0e8cf-3ef0-4369-8829-3a4a4b5b9c9e",
   "metadata": {},
   "outputs": [],
   "source": [
    "bbc_text.head()"
   ]
  },
  {
   "cell_type": "code",
   "execution_count": null,
   "id": "be32b9a8-533d-40e2-8061-3c724dee043a",
   "metadata": {},
   "outputs": [],
   "source": [
    "bbc_text['labels'].value_counts()"
   ]
  },
  {
   "cell_type": "code",
   "execution_count": null,
   "id": "cd89e9fa-f314-435e-a9e2-e0e02e498817",
   "metadata": {},
   "outputs": [],
   "source": [
    "def wrap(x):\n",
    "  return textwrap.fill(x, replace_whitespace = False, fix_sentence_endings = True)"
   ]
  },
  {
   "cell_type": "code",
   "execution_count": null,
   "id": "b5fa4fec-9791-421a-968a-78853c71dbea",
   "metadata": {},
   "outputs": [],
   "source": [
    "doc = bbc_text[bbc_text.labels == 'tech']['text'].sample(random_state=14)\n",
    "print(wrap(doc.iloc[0]))"
   ]
  },
  {
   "cell_type": "code",
   "execution_count": null,
   "id": "a50c4390-3016-4378-8851-f0ebae46826d",
   "metadata": {},
   "outputs": [],
   "source": [
    "summarizer = pipeline(\"summarization\", model=\"facebook/bart-large-cnn\")\n",
    "summary = summarizer(doc.iloc[0])[0]['summary_text']"
   ]
  },
  {
   "cell_type": "code",
   "execution_count": null,
   "id": "8d6b6eb6-c681-4146-b0e5-8bb3f63cdb90",
   "metadata": {},
   "outputs": [],
   "source": [
    "def summarize_text(text, model=\"facebook/bart-large-cnn\"):\n",
    "    summarizer = pipeline(\"summarization\", model=model)\n",
    "    summary = summarizer(text, max_length=130, min_length=30, do_sample=False)\n",
    "    return summary[0]['summary_text']"
   ]
  },
  {
   "cell_type": "code",
   "execution_count": null,
   "id": "eb5973ae-4871-4844-b36b-9a8912b6f4b5",
   "metadata": {},
   "outputs": [],
   "source": [
    "# Example texts\n",
    "news_article = \"\"\"\n",
    "Climate change is accelerating, with carbon dioxide levels rising and global temperatures increasing at an alarming rate. \n",
    "The impact is seen worldwide, with more frequent and severe weather events like hurricanes, droughts, and wildfires. \n",
    "Scientists are urging immediate action to reduce greenhouse gas emissions to mitigate these effects.\n",
    "\"\"\"\n",
    "\n",
    "scientific_abstract = \"\"\"\n",
    "In this study, we explore the application of convolutional neural networks (CNNs) in classifying medical imaging. \n",
    "Our dataset comprises 10,000 MRI scans of various brain diseases. We trained our CNN model using this dataset and \n",
    "achieved a 95% accuracy in differentiating between malignant and benign tumors, outperforming traditional methods.\n",
    "\"\"\"\n",
    "\n",
    "story_excerpt = \"\"\"\n",
    "Once upon a time in a faraway land, there was a kingdom of extraordinary beauty. The kingdom was known for its \n",
    "enchanting forests and a majestic castle where the beloved royal family lived. Despite its beauty, the kingdom faced \n",
    "troubles from a fearsome dragon that threatened peace.\n",
    "\"\"\"\n",
    "\n",
    "# Summarizing each text\n",
    "print(\"News Article Summary:\")\n",
    "print(summarize_text(news_article))\n",
    "print(\"\\nScientific Abstract Summary:\")\n",
    "print(summarize_text(scientific_abstract))\n",
    "print(\"\\nStory Excerpt Summary:\")\n",
    "print(summarize_text(story_excerpt))\n"
   ]
  },
  {
   "cell_type": "markdown",
   "id": "84484394-e468-4472-a717-cd5e9946167a",
   "metadata": {},
   "source": [
    "## Text classification"
   ]
  },
  {
   "cell_type": "code",
   "execution_count": null,
   "id": "29cdf91a-f827-4373-aa29-dc36d29bff95",
   "metadata": {},
   "outputs": [],
   "source": [
    "classifier = pipeline(\"sentiment-analysis\", model=\"distilbert-base-uncased-finetuned-sst-2-english\")\n",
    "classification = classifier(\"This movie is disgustingly good !\")"
   ]
  },
  {
   "cell_type": "code",
   "execution_count": null,
   "id": "78ea9099-ea1c-47c2-ba08-ca40b9e4055d",
   "metadata": {},
   "outputs": [],
   "source": [
    "print(classification[0]['label'])"
   ]
  },
  {
   "cell_type": "code",
   "execution_count": null,
   "id": "88187765-a8b5-4b3c-8922-b24e5fd8560f",
   "metadata": {},
   "outputs": [],
   "source": [
    "# Examples of sentences\n",
    "sentences = [\"I love sunny days in the city!\", \"I hate being stuck in traffic.\", \"It's just an average day, nothing special.\"]\n",
    "\n",
    "# Analyzing sentiment\n",
    "for sentence in sentences:\n",
    "    result = classifier(sentence)\n",
    "    print(f\"Sentence: {sentence}\")\n",
    "    print(f\"Sentiment: {result[0]['label']}, Score: {result[0]['score']:.2f}\\n\")\n"
   ]
  },
  {
   "cell_type": "markdown",
   "id": "a402cff1-4d1f-4e95-8aad-78a89dc75d98",
   "metadata": {},
   "source": [
    "## Text translation"
   ]
  },
  {
   "cell_type": "code",
   "execution_count": null,
   "id": "2556185f-b7e0-477b-acc1-f1190039b4ad",
   "metadata": {},
   "outputs": [],
   "source": [
    "translator = pipeline(\"translation\", model=\"sdadas/mt5-base-translator-en-pl\")\n",
    "enpl_translation = translator(\"We are now learning how to use natural Language Processing in Python\")"
   ]
  },
  {
   "cell_type": "code",
   "execution_count": null,
   "id": "7d255681-fca6-40cb-902f-25740e581cc5",
   "metadata": {},
   "outputs": [],
   "source": [
    "print(enpl_translation[0]['translation_text'])"
   ]
  },
  {
   "cell_type": "code",
   "execution_count": null,
   "id": "6db1ca04-ffb8-4744-bab8-b3e3a57fde59",
   "metadata": {},
   "outputs": [],
   "source": [
    "oracle = pipeline(model=\"deepset/roberta-base-squad2\")\n",
    "oracle(question=\"Where do I live?\", context=\"My name is Wolfgang and I live in Wroclaw\")"
   ]
  },
  {
   "cell_type": "markdown",
   "id": "8f776d1a-0c7d-477b-9e68-6a2d31e3a9e2",
   "metadata": {},
   "source": [
    "## Question answering"
   ]
  },
  {
   "cell_type": "code",
   "execution_count": null,
   "id": "896d26dd-5b1e-41fb-a801-0b0bef8fbed0",
   "metadata": {},
   "outputs": [],
   "source": [
    "context = \"\"\"\n",
    "Pythagoras was an ancient Ionian Greek philosopher and the eponymous founder of Pythagoreanism. His political and \n",
    "religious teachings were well known in Magna Graecia and influenced the philosophies of Plato, Aristotle, and, \n",
    "through them, Western philosophy. Knowledge of his life is clouded by legend, but he appears to have been the son of \n",
    "Mnesarchus, a gem engraver on the island of Samos. Modern scholars disagree regarding Pythagoras's education and \n",
    "influences, but they do agree that, around 530 BC, he traveled to Croton, where he founded a school in which \n",
    "initiates were sworn to secrecy and lived a communal, ascetic lifestyle.\n",
    "\"\"\"\n",
    "\n",
    "questions = [\n",
    "    \"Who was Pythagoras?\",\n",
    "    \"What did Pythagoras influence?\",\n",
    "    \"Where did Pythagoras found his school?\"\n",
    "]\n",
    "\n",
    "# Answering each question\n",
    "for question in questions:\n",
    "    result = oracle(question=question, context=context)\n",
    "    print(f\"Question: {question}\")\n",
    "    print(f\"Answer: {result['answer']}\\n\")\n"
   ]
  },
  {
   "cell_type": "markdown",
   "id": "8f2a9e76-db98-4417-abba-1fd1c961daa5",
   "metadata": {},
   "source": [
    "## Named Entity Recognition"
   ]
  },
  {
   "cell_type": "code",
   "execution_count": null,
   "id": "80747e8c-db4d-4041-a1a8-42537883962c",
   "metadata": {},
   "outputs": [],
   "source": [
    "# Initialize NER pipeline\n",
    "ner_pipeline = pipeline(\"ner\", grouped_entities=True)\n",
    "\n",
    "# Sample text\n",
    "text = \"Google was founded by Larry Page and Sergey Brin while they were students at Stanford University.\"\n",
    "\n",
    "# Performing NER\n",
    "ner_results = ner_pipeline(text)\n",
    "for entity in ner_results:\n",
    "    print(f\"Entity: {entity['word']}, Type: {entity['entity_group']}, Score: {entity['score']:.2f}\")"
   ]
  },
  {
   "cell_type": "markdown",
   "id": "1cdeda92-593b-4ed4-bc37-1b06ba2a2c86",
   "metadata": {},
   "source": [
    "## Question answering based on the article in BBC set"
   ]
  },
  {
   "cell_type": "code",
   "execution_count": null,
   "id": "d37c5075-e43b-46da-9b42-53dcc700a07f",
   "metadata": {},
   "outputs": [],
   "source": [
    "print(summary)"
   ]
  },
  {
   "cell_type": "code",
   "execution_count": null,
   "id": "80208402-5108-4647-b2aa-ec688c896c1a",
   "metadata": {},
   "outputs": [],
   "source": [
    "doc_context = doc.iloc[0]\n",
    "question = 'What survives final edits?'\n",
    "\n",
    "oracle(question=question, context=doc_context)"
   ]
  },
  {
   "cell_type": "markdown",
   "id": "a994e3d1-5b4c-4f49-8a98-f49ec3a7daf9",
   "metadata": {},
   "source": [
    "## Text generation"
   ]
  },
  {
   "cell_type": "code",
   "execution_count": null,
   "id": "08ba4ca9-c982-4e50-9475-63c01121e2ed",
   "metadata": {},
   "outputs": [],
   "source": [
    "generator = pipeline(\"text-generation\", model=\"gpt2\")\n",
    "capital = generator('The most popular programming language is')"
   ]
  },
  {
   "cell_type": "code",
   "execution_count": null,
   "id": "45872b50-0294-446d-8a31-d12062e9c3e7",
   "metadata": {},
   "outputs": [],
   "source": [
    "print(capital[0]['generated_text'])"
   ]
  },
  {
   "cell_type": "markdown",
   "id": "68cb7012-0f5c-44be-a7fa-91f515721680",
   "metadata": {},
   "source": [
    "## Prompt Engineering"
   ]
  },
  {
   "cell_type": "code",
   "execution_count": null,
   "id": "682055b5-08b3-4306-a08a-8596d75f76ad",
   "metadata": {},
   "outputs": [],
   "source": [
    "# Initialize the text generation pipeline\n",
    "generator = pipeline('text-generation', model='gpt2')\n",
    "\n",
    "# Style-specific prompts\n",
    "prompts = {\n",
    "    \"Shakespearean\": \"To be or not to be, that is the question:\",\n",
    "    \"News Report\": \"Today in New York City, a major event took place where\",\n",
    "    \"Science Fiction\": \"In a distant future, humanity has colonized Mars and\"\n",
    "}\n",
    "\n",
    "# Generating and displaying responses\n",
    "for style, prompt in prompts.items():\n",
    "    result = generator(prompt, max_length=50, num_return_sequences=1)\n",
    "    print(f\"Style: {style}\")\n",
    "    print(f\"Generated Text: {result[0]['generated_text']}\\n\")"
   ]
  },
  {
   "cell_type": "code",
   "execution_count": null,
   "id": "fb102bde-fc59-45ae-a1ad-b1031cde5ac3",
   "metadata": {},
   "outputs": [],
   "source": [
    "# Fine-tuning the response by slightly altering prompts\n",
    "original_prompt = \"What is the best way to learn programming?\"\n",
    "modified_prompts = [\n",
    "    original_prompt,\n",
    "    \"As a beginner, \" + original_prompt,\n",
    "    \"In a fun and engaging way, \" + original_prompt\n",
    "]\n",
    "\n",
    "# Generating responses\n",
    "for prompt in modified_prompts:\n",
    "    result = generator(prompt, max_length=50, num_return_sequences=1)\n",
    "    print(f\"Prompt: {prompt}\")\n",
    "    print(f\"Generated Text: {result[0]['generated_text']}\\n\")"
   ]
  },
  {
   "cell_type": "code",
   "execution_count": null,
   "id": "e1a6265e-c18f-4bef-a841-f6e70bee4b67",
   "metadata": {},
   "outputs": [],
   "source": [
    "# Genre-specific prompts\n",
    "genres = {\n",
    "    \"Horror\": \"In a dark, abandoned house, there was a mysterious noise that\",\n",
    "    \"Comedy\": \"At the comedy club, the stand-up comedian started his act by saying:\",\n",
    "    \"Romantic\": \"In the beautiful city of Paris, two lovers met and\"\n",
    "}\n",
    "\n",
    "# Generating genre-specific texts\n",
    "for genre, prompt in genres.items():\n",
    "    result = generator(prompt, max_length=50, num_return_sequences=1)\n",
    "    print(f\"Genre: {genre}\")\n",
    "    print(f\"Generated Text: {result[0]['generated_text']}\\n\")"
   ]
  },
  {
   "cell_type": "code",
   "execution_count": null,
   "id": "a30dcd78-0b47-4ab8-86d2-6b241a79175d",
   "metadata": {},
   "outputs": [],
   "source": []
  }
 ],
 "metadata": {
  "kernelspec": {
   "display_name": "nlp-toolkit",
   "language": "python",
   "name": "nlp-toolkit"
  },
  "language_info": {
   "codemirror_mode": {
    "name": "ipython",
    "version": 3
   },
   "file_extension": ".py",
   "mimetype": "text/x-python",
   "name": "python",
   "nbconvert_exporter": "python",
   "pygments_lexer": "ipython3",
   "version": "3.11.5"
  }
 },
 "nbformat": 4,
 "nbformat_minor": 5
}
